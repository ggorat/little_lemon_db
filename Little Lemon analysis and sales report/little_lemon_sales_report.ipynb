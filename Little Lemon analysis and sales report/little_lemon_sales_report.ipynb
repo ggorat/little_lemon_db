{
 "cells": [
  {
   "cell_type": "code",
   "execution_count": null,
   "metadata": {},
   "outputs": [],
   "source": [
    "#Task 1 Establishing a connection pool\n",
    "from mysql.connector.pooling import MySQLConnectionPool\n",
    "from mysql.connector import Error\n",
    "\n",
    "dbconfig = {\n",
    "    \"database\":\"little_lemon_db\",\n",
    "    \"user\":\"root\",\n",
    "    \"password\":\"Youseethis123\"\n",
    "}\n",
    "\n",
    "try: \n",
    "    pool = MySQLConnectionPool(pool_name = \"pool_b\", pool_size = 2, **dbconfig)\n",
    "    print(\"The connection to pool is created with a name: \", pool.pool_name)\n",
    "    print(\"The pool size is: \", pool.pool_size)\n",
    "\n",
    "except Error as er:\n",
    "    print(\"Error code: \", er.errno)\n",
    "    print(\"Error message: \", er.msg)"
   ]
  },
  {
   "cell_type": "code",
   "execution_count": null,
   "metadata": {},
   "outputs": [],
   "source": [
    "#Task 2 Booking Dinner slots, I decided to just do the queries first\n",
    "booking1 = \"\"\"INSERT INTO Bookings (TableNo, GuestFirstName, GuestLastName, BookingSlot, EmployeeID)\n",
    "               VALUES\n",
    "               (8, 'Anees', 'Java', '18:00', 6);\"\"\"\n",
    "booking2 = \"\"\"INSERT INTO Bookings (TableNo, GuestFirstName, GuestLastName, BookingSlot, EmployeeID)\n",
    "               VALUES\n",
    "               (5, 'Bald', 'Vin', '19:00', 6);\"\"\"\n",
    "booking3 = \"\"\"INSERT INTO Bookings (TableNo, GuestFirstName, GuestLastName, BookingSlot, EmployeeID)\n",
    "               VALUES\n",
    "               (12, 'Jay', 'Kon', '19:30', 6);\"\"\""
   ]
  },
  {
   "cell_type": "code",
   "execution_count": null,
   "metadata": {},
   "outputs": [],
   "source": [
    "connection1 = pool.get_connection()\n",
    "cursor1 = connection1.cursor()\n",
    "\n",
    "cursor1.execute(booking1)\n",
    "connection1.commit()\n",
    "print(\"Successfully added.\")"
   ]
  },
  {
   "cell_type": "code",
   "execution_count": null,
   "metadata": {},
   "outputs": [],
   "source": [
    "connection2 = pool.get_connection()\n",
    "cursor2 = connection2.cursor()\n",
    "\n",
    "cursor2.execute(booking2)\n",
    "connection2.commit()\n",
    "print(\"Successfully added.\")"
   ]
  },
  {
   "cell_type": "code",
   "execution_count": null,
   "metadata": {},
   "outputs": [],
   "source": [
    "import mysql.connector as connector"
   ]
  },
  {
   "cell_type": "code",
   "execution_count": null,
   "metadata": {},
   "outputs": [],
   "source": [
    "#Need to create new connection\n",
    "try:\n",
    "    connection3 = pool.get_connection()\n",
    "    print(\"You have been connected.\")\n",
    "except:\n",
    "    print(\"No more connections, please wait while one is created...\")\n",
    "    connection = connector.connect(user = \"root\", password = \"Youseethis123\")\n",
    "    pool.add_connection(cnx=connection)\n",
    "    connection3 = pool.get_connection()\n",
    "    print(\"New connection added.\")\n",
    "\n",
    "cursor3 = connection3.cursor()\n",
    "cursor3.execute(booking3)\n",
    "connection3.commit()\n",
    "print(\"Successfully added.\")"
   ]
  },
  {
   "cell_type": "code",
   "execution_count": null,
   "metadata": {},
   "outputs": [],
   "source": [
    "#Returning connections to pool with error message for the extra *new* connection\n",
    "for connection in [connection1, connection2, connection3]:\n",
    "    try:\n",
    "        connection.close()\n",
    "        print(\"Returned to pool\")\n",
    "    except Error as err:\n",
    "        print(\"Extra connection cannot be added back to pool. \")\n",
    "        print(\"Error code: \", err.errno)\n",
    "        print(\"Error message: \", err.msg)"
   ]
  },
  {
   "cell_type": "code",
   "execution_count": null,
   "metadata": {},
   "outputs": [],
   "source": [
    "\n",
    "#Report 1 (Task 3)\n",
    "report_1A = \"\"\"SELECT Name, EmployeeID FROM Employees WHERE Role = 'Manager'; \"\"\"\n",
    "report_1B = \"\"\"SELECT Name, Role FROM Employees ORDER BY Annual_Salary DESC LIMIT 1; \"\"\"\n",
    "report_1C = \"\"\"SELECT COUNT(BookingID) AS TotalBookings FROM Bookings WHERE BookingSlot BETWEEN '18:00' AND '20:00'; \"\"\"\n",
    "report_1D = \"\"\"SELECT CONCAT(GuestFirstName,' ', GuestLastName) AS FullName, BookingID \n",
    "                FROM Bookings LEFT JOIN Employees ON Bookings.EmployeeID = Employees.EmployeeID \n",
    "                WHERE Employees.Role = 'Receptionist'; \"\"\"\n",
    "\n",
    "cursor = connection.cursor()\n",
    "cursor.execute(report_1A)\n",
    "results1 = cursor.fetchall()\n",
    "cols = cursor.column_names\n",
    "print(cols)\n",
    "for results in results1:\n",
    "    print(results, \"\\n\")\n",
    "\n",
    "cursor.execute(report_1B)\n",
    "results1 = cursor.fetchall()\n",
    "cols = cursor.column_names\n",
    "print(cols)\n",
    "for results in results1:\n",
    "    print(results, \"\\n\")\n",
    "\n",
    "cursor.execute(report_1C)\n",
    "results1 = cursor.fetchall()\n",
    "cols = cursor.column_names\n",
    "print(cols)\n",
    "for results in results1:\n",
    "    print(results, \"\\n\")\n",
    "\n",
    "cursor.execute(report_1D)\n",
    "results1 = cursor.fetchall()\n",
    "cols = cursor.column_names\n",
    "print(cols)\n",
    "for results in results1:\n",
    "    print(results)"
   ]
  },
  {
   "cell_type": "code",
   "execution_count": 36,
   "metadata": {},
   "outputs": [],
   "source": [
    "#Task 4 BasicSalesReport\n",
    "#cursor.execute(\"\"\"DROP PROCEDURE IF EXISTS BasicSalesReport\"\"\")\n",
    "\n",
    "sql_procedure_BasicSalesReport = \"\"\"\n",
    "CREATE PROCEDURE BasicSalesReport()\n",
    "BEGIN\n",
    "\n",
    "SELECT SUM(BillAmount) AS Total_Sales, ROUND(AVG(BillAmount), 2) AS Average_Bill_Amount,\n",
    "MIN(BillAmount) AS Minimum_Bill_Paid, MAX(BillAmount) AS Maximum_Bill_Paid\n",
    "FROM Orders;\n",
    "\n",
    "END\n",
    "\"\"\""
   ]
  },
  {
   "cell_type": "code",
   "execution_count": 37,
   "metadata": {},
   "outputs": [],
   "source": [
    "cursor.execute(sql_procedure_BasicSalesReport)"
   ]
  },
  {
   "cell_type": "code",
   "execution_count": 38,
   "metadata": {},
   "outputs": [
    {
     "data": {
      "text/plain": [
       "()"
      ]
     },
     "execution_count": 38,
     "metadata": {},
     "output_type": "execute_result"
    }
   ],
   "source": [
    "cursor.callproc(\"BasicSalesReport\")"
   ]
  },
  {
   "cell_type": "code",
   "execution_count": 39,
   "metadata": {},
   "outputs": [
    {
     "name": "stdout",
     "output_type": "stream",
     "text": [
      "['Total_Sales', 'Average_Bill_Amount', 'Minimum_Bill_Paid', 'Maximum_Bill_Paid']\n",
      "(Decimal('243'), Decimal('48.60'), 37, 86)\n"
     ]
    }
   ],
   "source": [
    "results = next(cursor.stored_results())\n",
    "dataset = results.fetchall()\n",
    "\n",
    "for column_id in cursor.stored_results():\n",
    "    columns = [ column[0] for column in column_id.description ]\n",
    "print(columns)\n",
    "\n",
    "for data in dataset:\n",
    "    print(data)"
   ]
  },
  {
   "cell_type": "code",
   "execution_count": 40,
   "metadata": {},
   "outputs": [],
   "source": [
    "#Task 5 Upcoming Bookings\n",
    "#Get connection and create buffered cursor\n",
    "chef_connection = pool.get_connection()\n",
    "cursor = chef_connection.cursor(buffered = True)"
   ]
  },
  {
   "cell_type": "code",
   "execution_count": 46,
   "metadata": {},
   "outputs": [
    {
     "name": "stdout",
     "output_type": "stream",
     "text": [
      "Booking Slot: 15:00:00 \n",
      "Guest Name: Vanessa McCarthy \n",
      "Assigned to: Giorgos Dioudis [Head Chef]\n",
      "\n",
      "\n",
      "Booking Slot: 17:30:00 \n",
      "Guest Name: Marcos Romero \n",
      "Assigned to: Fatma Kaya [Assistant Chef]\n",
      "\n",
      "\n",
      "Booking Slot: 18:00:00 \n",
      "Guest Name: Anees Java \n",
      "Assigned to: John Millar [Receptionist]\n",
      "\n",
      "\n"
     ]
    }
   ],
   "source": [
    "#SQL statement to retrieve upcoming 3 bookings\n",
    "chef_query = \"\"\"\n",
    "SELECT BookingSlot, CONCAT(GuestFirstName, ' ', GuestLastName) AS Guest_name, Name, Role\n",
    "FROM Bookings LEFT JOIN Employees ON Bookings.EmployeeID = Employees.EmployeeID\n",
    "ORDER BY BookingSlot ASC LIMIT 3;\n",
    "\"\"\"\n",
    "\n",
    "cursor.execute(chef_query)\n",
    "results = cursor.fetchall()\n",
    "for results in results:\n",
    "    print(\"Booking Slot: {} \\nGuest Name: {} \\nAssigned to: {} [{}]\".format(results[0], results[1], results[2], results[3]))\n",
    "    print(\"\\n\")"
   ]
  },
  {
   "cell_type": "code",
   "execution_count": 47,
   "metadata": {},
   "outputs": [
    {
     "name": "stdout",
     "output_type": "stream",
     "text": [
      "Returned to pool\n"
     ]
    }
   ],
   "source": [
    "#Returning connection to the pool\n",
    "try:\n",
    "    chef_connection.close()\n",
    "    print(\"Returned to pool\")\n",
    "except Error as err:\n",
    "    print(\"Error code: \", err.errno)\n",
    "    print(\"Error message: \", err.msg)"
   ]
  }
 ],
 "metadata": {
  "kernelspec": {
   "display_name": "Python 3",
   "language": "python",
   "name": "python3"
  },
  "language_info": {
   "codemirror_mode": {
    "name": "ipython",
    "version": 3
   },
   "file_extension": ".py",
   "mimetype": "text/x-python",
   "name": "python",
   "nbconvert_exporter": "python",
   "pygments_lexer": "ipython3",
   "version": "3.11.6"
  }
 },
 "nbformat": 4,
 "nbformat_minor": 2
}
