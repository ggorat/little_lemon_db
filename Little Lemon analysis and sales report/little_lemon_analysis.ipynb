{
 "cells": [
  {
   "cell_type": "code",
   "execution_count": 1,
   "metadata": {},
   "outputs": [
    {
     "name": "stdout",
     "output_type": "stream",
     "text": [
      "The connection to pool is created with a name:  pool_a\n",
      "The pool size is:  2\n"
     ]
    }
   ],
   "source": [
    "from mysql.connector.pooling import MySQLConnectionPool\n",
    "from mysql.connector import Error\n",
    "\n",
    "dbconfig = {\n",
    "    \"database\":\"little_lemon_db\",\n",
    "    \"user\":\"root\",\n",
    "    \"password\":\"Youseethis123\"\n",
    "}\n",
    "\n",
    "try: \n",
    "    pool = MySQLConnectionPool(pool_name = \"pool_a\", pool_size = 2, **dbconfig)\n",
    "    print(\"The connection to pool is created with a name: \", pool.pool_name)\n",
    "    print(\"The pool size is: \", pool.pool_size)\n",
    "\n",
    "except Error as er:\n",
    "    print(\"Error code: \", er.errno)\n",
    "    print(\"Error message: \", er.msg)"
   ]
  },
  {
   "cell_type": "code",
   "execution_count": 2,
   "metadata": {},
   "outputs": [
    {
     "name": "stdout",
     "output_type": "stream",
     "text": [
      "Connection established, now creating a cursor.\n"
     ]
    }
   ],
   "source": [
    "connectionP = pool.get_connection()\n",
    "print(\"Connection established, now creating a cursor.\")\n",
    "cursor = connectionP.cursor()"
   ]
  },
  {
   "cell_type": "code",
   "execution_count": 4,
   "metadata": {},
   "outputs": [],
   "source": [
    "#Task 2, creating stored procedure\n",
    "sql_procedure_peak_hours = \"\"\"\n",
    "CREATE PROCEDURE PeakHours()\n",
    "BEGIN\n",
    "SELECT HOUR(BookingSlot) AS BookingHour, COUNT(HOUR(BookingSlot)) AS TotalperHour\n",
    "FROM Bookings\n",
    "GROUP BY BookingHour\n",
    "ORDER BY TotalperHour DESC;\n",
    "END\n",
    "\"\"\""
   ]
  },
  {
   "cell_type": "code",
   "execution_count": 5,
   "metadata": {},
   "outputs": [],
   "source": [
    "cursor.execute(sql_procedure_peak_hours)"
   ]
  },
  {
   "cell_type": "code",
   "execution_count": 6,
   "metadata": {},
   "outputs": [
    {
     "data": {
      "text/plain": [
       "()"
      ]
     },
     "execution_count": 6,
     "metadata": {},
     "output_type": "execute_result"
    }
   ],
   "source": [
    "cursor.callproc(\"PeakHours\")"
   ]
  },
  {
   "cell_type": "code",
   "execution_count": 7,
   "metadata": {},
   "outputs": [],
   "source": [
    "results = next(cursor.stored_results())\n",
    "dataset = results.fetchall()"
   ]
  },
  {
   "cell_type": "code",
   "execution_count": 9,
   "metadata": {},
   "outputs": [
    {
     "name": "stdout",
     "output_type": "stream",
     "text": [
      "['BookingHour', 'TotalperHour']\n",
      "(19, 2)\n",
      "(15, 1)\n",
      "(17, 1)\n",
      "(18, 1)\n",
      "(20, 1)\n"
     ]
    }
   ],
   "source": [
    "for column_id in cursor.stored_results():\n",
    "    columns = [ column[0] for column in column_id.description ]\n",
    "print(columns)\n",
    "\n",
    "for data in dataset:\n",
    "    print(data)"
   ]
  },
  {
   "cell_type": "code",
   "execution_count": 18,
   "metadata": {},
   "outputs": [],
   "source": [
    "sql_procedure_guest_status = \"\"\"\n",
    "CREATE PROCEDURE GuestStatus()\n",
    "BEGIN\n",
    "\n",
    "SELECT CONCAT(GuestFirstName,' ', GuestLastName) AS GuestName,\n",
    "CASE\n",
    "WHEN Role IN ('Manager', 'Assistant Manager') THEN \"Ready to Pay\"\n",
    "WHEN Role IN ('Head Chef') THEN \"Ready to serve\"\n",
    "WHEN Role IN ('Assistant Chef') THEN \"Preparing order\"\n",
    "WHEN Role IN ('Head Waiter') THEN \"Order served\"\n",
    "ELSE \"Please wait...\"\n",
    "END AS Status\n",
    "FROM Bookings LEFT JOIN Employees ON Bookings.EmployeeID = Employees.EmployeeID;\n",
    "\n",
    "END\n",
    "\"\"\""
   ]
  },
  {
   "cell_type": "code",
   "execution_count": 19,
   "metadata": {},
   "outputs": [],
   "source": [
    "cursor.execute(\"\"\"DROP PROCEDURE IF EXISTS GuestStatus;\"\"\")\n",
    "cursor.execute(sql_procedure_guest_status)"
   ]
  },
  {
   "cell_type": "code",
   "execution_count": 20,
   "metadata": {},
   "outputs": [
    {
     "data": {
      "text/plain": [
       "()"
      ]
     },
     "execution_count": 20,
     "metadata": {},
     "output_type": "execute_result"
    }
   ],
   "source": [
    "cursor.callproc(\"GuestStatus\")"
   ]
  },
  {
   "cell_type": "code",
   "execution_count": 21,
   "metadata": {},
   "outputs": [
    {
     "name": "stdout",
     "output_type": "stream",
     "text": [
      "['GuestName', 'Status']\n",
      "('Anna Iversen', 'Ready to Pay')\n",
      "('Joakim Iversen', 'Ready to Pay')\n",
      "('Vanessa McCarthy', 'Ready to serve')\n",
      "('Marcos Romero', 'Preparing order')\n",
      "('Hiroki Yamane', 'Ready to Pay')\n",
      "('Diana Pinto', 'Order served')\n"
     ]
    }
   ],
   "source": [
    "results = next(cursor.stored_results())\n",
    "dataset = results.fetchall()\n",
    "for column_id in cursor.stored_results():\n",
    "    columns = [ column[0] for column in column_id.description ]\n",
    "print(columns)\n",
    "\n",
    "for data in dataset:\n",
    "    print(data)"
   ]
  },
  {
   "cell_type": "code",
   "execution_count": 23,
   "metadata": {},
   "outputs": [
    {
     "name": "stdout",
     "output_type": "stream",
     "text": [
      "The cursor is closed.\n",
      "MySQL connection is closed.\n"
     ]
    }
   ],
   "source": [
    "#Make sure to close connection\n",
    "if connectionP.is_connected():\n",
    "    cursor.close()\n",
    "    print(\"The cursor is closed.\")\n",
    "    connectionP.close()\n",
    "    print(\"MySQL connection is closed.\")\n",
    "else:\n",
    "    print(\"Connection is already closed\")"
   ]
  }
 ],
 "metadata": {
  "kernelspec": {
   "display_name": "Python 3",
   "language": "python",
   "name": "python3"
  },
  "language_info": {
   "codemirror_mode": {
    "name": "ipython",
    "version": 3
   },
   "file_extension": ".py",
   "mimetype": "text/x-python",
   "name": "python",
   "nbconvert_exporter": "python",
   "pygments_lexer": "ipython3",
   "version": "3.11.6"
  }
 },
 "nbformat": 4,
 "nbformat_minor": 2
}
